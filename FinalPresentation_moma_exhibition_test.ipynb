{
 "cells": [
  {
   "cell_type": "code",
   "execution_count": 3,
   "metadata": {},
   "outputs": [
    {
     "name": "stdout",
     "output_type": "stream",
     "text": [
      "The War: Etchings by Otto Dix (7/30/1934)\n",
      "The War, Etchings by Otto Dix and Armored Train, a Painting by Gino Severini (9/21/1937)\n",
      "Luis Quintanilla: An Exhibition of Drawings of the War in Spain (3/15/1938)\n",
      "Paris at War: 16 Gouaches by Bernard Lamotte (1/1/1940)\n",
      "War Comes to the People: A Story Written With The Lens (12/10/1940)\n",
      "Britain at War (5/23/1941)\n",
      "Photographs of the Civil War and the American Frontier (3/3/1942)\n",
      "Art in War: OEM Purchases from a National Competition (3/13/1942)\n",
      "Two Years of War in England: Photographs by William Vandivert (4/15/1942)\n",
      "The Museum and the War (10/23/1942)\n",
      "Children's Painting and the War (11/18/1942)\n",
      "National War Poster Competition (11/25/1942)\n",
      "Yank Illustrates the War (3/17/1943)\n",
      "War Caricatures by Hoffmeister and Peel (5/12/1943)\n",
      "Tunisian Triumph: War Photographs by Eliot Elisofon (6/14/1943)\n",
      "Bali, Background for War: The Human Problem of Reoccupation (8/11/1943)\n",
      "Norman Bel Geddes' War Maneuver Models (1/26/1944)\n",
      "Chinese Children's War Pictures (4/5/1944)\n",
      "American Battle Painting 1776â1918 (9/26/1944)\n",
      "The War Years: Color Reproductions of Works by Picasso, Matisse, Bonnard 1939â1943 (11/14/1944)\n",
      "The Lesson of War Housing (1/16/1945)\n",
      "Power in the Pacific: Battle Photographs of our Navy in Action on the Sea and in the Sky (1/23/1945)\n",
      "Art for War Veterans (9/26/1945)\n",
      "Work from War Veterans' Art Center (9/1/1948)\n",
      "Percival Goodman War Memorial Model (1/17/1950)\n",
      "Korea - The Impact of War in Photographs (2/13/1951)\n",
      "Built in USA: Post-War Architecture (1/20/1953)\n",
      "European Master Paintings from Swiss Collections: Post-Impressionism to World War II (12/17/1976)\n",
      "MoMA2000, Making Choices: War (2000.3.16)\n",
      "MoMA2000, Making Choices: The Observer: Cartier-Bresson after the War (2000.4.30)\n",
      "RAW/WAR (2007.12.5)\n",
      "Harun Farocki: Images of War (at a Distance) (2011.6.29)\n",
      "9 Scripts from a Nation at War (2012.1.25)\n",
      "Soldier, Spectre, Shaman: The Figure and the Second World War (2015.10.24)\n",
      "4th Fl: 401, Out of War (2019.10.21)\n",
      "4th Fl: 420, War Within, War Without (2019.10.21)\n",
      "Total results found: 573/59699 (573/59699)\n"
     ]
    }
   ],
   "source": [
    "import csv\n",
    "import re\n",
    "\n",
    "filename = \"MoMAExhibitions1929to2024.csv\"\n",
    "\n",
    "keywords = [\"war\", \"battle\"]\n",
    "\n",
    "unique_titles = set()\n",
    "\n",
    "printed_count = 0\n",
    "total_items = 0\n",
    "\n",
    "with open(filename, newline='', encoding='ISO-8859-1') as csvfile:\n",
    "    reader = csv.DictReader(csvfile)\n",
    "    \n",
    "    total_items = sum(1 for row in reader)\n",
    "\n",
    "    csvfile.seek(0)\n",
    "    \n",
    "    for row in reader:\n",
    "        exhibition_title = row['ExhibitionTitle']\n",
    "        exhibition_date = row['ExhibitionBeginDate']\n",
    "        \n",
    "        if any(re.search(r'\\b{}\\b'.format(re.escape(keyword)), exhibition_title, re.IGNORECASE) for keyword in keywords):\n",
    "            printed_count += 1\n",
    "            \n",
    "            exhibition_info = f\"{exhibition_title} ({exhibition_date})\"\n",
    "            \n",
    "            if exhibition_info not in unique_titles:\n",
    "                print(exhibition_info)\n",
    "                unique_titles.add(exhibition_info)\n",
    "\n",
    "print(f\"Total results found: {printed_count}/{total_items} ({printed_count}/{total_items})\")\n"
   ]
  }
 ],
 "metadata": {
  "kernelspec": {
   "display_name": "Python 3",
   "language": "python",
   "name": "python3"
  },
  "language_info": {
   "codemirror_mode": {
    "name": "ipython",
    "version": 3
   },
   "file_extension": ".py",
   "mimetype": "text/x-python",
   "name": "python",
   "nbconvert_exporter": "python",
   "pygments_lexer": "ipython3",
   "version": "3.12.1"
  }
 },
 "nbformat": 4,
 "nbformat_minor": 2
}
