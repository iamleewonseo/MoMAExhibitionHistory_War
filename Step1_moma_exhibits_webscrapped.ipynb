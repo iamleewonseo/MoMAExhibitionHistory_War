{
 "cells": [
  {
   "cell_type": "code",
   "execution_count": null,
   "metadata": {},
   "outputs": [],
   "source": [
    "from bs4 import BeautifulSoup\n",
    "import requests\n",
    "import json\n",
    "import time\n",
    "\n",
    "my_headers ={\n",
    "    'User-Agent' : 'Mozilla/5.0 (Macintosh; Intel Mac OS X 10_15_7) AppleWebKit/537.36 (KHTML, like Gecko) Chrome/123.0.0.0 Safari/537.36'\n",
    "}\n",
    "all_ex = []\n",
    "\n",
    "for r in range(1, 115):\n",
    "\n",
    "    # time.sleep(5)\n",
    "    \n",
    "    url = f\"https://www.moma.org/calendar/exhibitions/history/?=undefined&page={r}&direction=fwd\"\n",
    "\n",
    "    response = requests.get(url, headers=my_headers)\n",
    "\n",
    "    print(url)\n",
    "    print(response.status_code)\n",
    "    # print(response.text)\n",
    "\n",
    "    soup = BeautifulSoup(response.text)\n",
    "\n",
    "    all_ex_li = soup.find_all(\"li\", attrs={'class': 'mde-search-tile'} )\n",
    "\n",
    "    for li in all_ex_li:\n",
    "\n",
    "        a_ex = {\n",
    "            'title' : None,\n",
    "            'date' : None,\n",
    "            'location' : None,\n",
    "            'id' : None\n",
    "        }\n",
    "\n",
    "        h3_element = li.find(\"h3\")\n",
    "        if h3_element is not None:\n",
    "            a_ex['title'] = h3_element.text.strip()\n",
    "\n",
    "        date_element = li.find(\"p\", attrs={'class':'calendar-location--past'})\n",
    "        if date_element is not None:\n",
    "            a_ex['date'] = date_element.text.strip()\n",
    "\n",
    "        loc_element = li.find(\"p\", attrs={'class':'calendar-tile__location--vertical'})\n",
    "        if loc_element is not None:\n",
    "            a_ex['location'] = loc_element.text.strip()\n",
    "\n",
    "        a_element = li.find('a')\n",
    "        if a_element is not None:\n",
    "            a_ex['id'] = a_element['href'].split('/')[3]\n",
    "\n",
    "        all_ex.append(a_ex)\n",
    "\n",
    "# Writing the JSON file outside the loop\n",
    "with open('moma_exhibts_webscrapped.json', 'w') as json_file:\n",
    "    json.dump(all_ex, json_file, indent=2)\n"
   ]
  }
 ],
 "metadata": {
  "kernelspec": {
   "display_name": "Python 3",
   "language": "python",
   "name": "python3"
  },
  "language_info": {
   "codemirror_mode": {
    "name": "ipython",
    "version": 3
   },
   "file_extension": ".py",
   "mimetype": "text/x-python",
   "name": "python",
   "nbconvert_exporter": "python",
   "pygments_lexer": "ipython3",
   "version": "3.12.1"
  }
 },
 "nbformat": 4,
 "nbformat_minor": 2
}
